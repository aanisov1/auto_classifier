{
 "cells": [
  {
   "cell_type": "code",
   "execution_count": 127,
   "id": "5133d282-0e18-4346-bc6c-7750bbe54216",
   "metadata": {},
   "outputs": [],
   "source": [
    "#импорт данных\n",
    "import pandas as pd\n",
    "import numpy as np\n",
    "\n",
    "df = pd.read_csv('auto.csv')  \n",
    "types = ['седан', 'хэтчбек', 'кроссовер', 'внедорожник']"
   ]
  },
  {
   "cell_type": "code",
   "execution_count": 128,
   "id": "3ea035c0-cacc-4ba0-98ac-3b79bcb07fe6",
   "metadata": {},
   "outputs": [],
   "source": [
    "#удаление экземпляров, которые не входят в типы для предсказания\n",
    "for i in range(0 , len(df['type_car'])):\n",
    "    for word in df['type_car'][i].lower().split():\n",
    "        flag = True\n",
    "        if word in types:\n",
    "            flag = False\n",
    "            df.at[i, 'type_car'] = word\n",
    "            break\n",
    "    if flag: df = df.drop(i)\n",
    "df = df.reset_index()\n",
    "df = df.drop(columns=['index'])"
   ]
  },
  {
   "cell_type": "code",
   "execution_count": 129,
   "id": "7b577610-7b03-4857-9c15-564b0f659fa9",
   "metadata": {},
   "outputs": [],
   "source": [
    "#преобразование переменных\n",
    "for i in range(0 , len(df)):\n",
    "    try:\n",
    "        df.at[i, 'Мощность'] =  int(df.iloc[i]['Мощность'].split()[0])\n",
    "    except ValueError:\n",
    "        pass\n",
    "        \n",
    "    try:\n",
    "        df.at[i, 'Крутящий момент двигателя'] = int(df.iloc[i]['Крутящий момент двигателя'].split()[0])\n",
    "    except ValueError:\n",
    "        pass\n",
    "    try:\n",
    "        df.at[i, 'Разгон до сотни'] = float(df.iloc[i]['Разгон до сотни'].split()[0])\n",
    "    except ValueError:\n",
    "        pass\n",
    "    \n",
    "    try:\n",
    "        df.at[i, 'Максимальная скорость'] = int(df.iloc[i]['Максимальная скорость'].split()[0])\n",
    "    except ValueError:\n",
    "        pass\n",
    "    \n",
    "    try:\n",
    "        df.at[i, 'Дорожный просвет'] = int(df.iloc[i]['Дорожный просвет'].split()[0])\n",
    "    except ValueError:\n",
    "        pass\n",
    "    \n",
    "    try:\n",
    "        df.at[i, 'Колёсная база'] = int(df.iloc[i]['Колёсная база'].split()[0])\n",
    "    except ValueError:\n",
    "        pass\n",
    "    \n",
    "    try:\n",
    "        df.at[i, 'Объём багажника'] = int(df.iloc[i]['Объём багажника'].split()[0])\n",
    "    except ValueError:\n",
    "        pass\n",
    "    \n",
    "    try:\n",
    "        df.at[i, 'Объём багажника максимальный'] = int(df.iloc[i]['Объём багажника максимальный'].split()[0])\n",
    "    except ValueError:\n",
    "        pass\n",
    "    \n",
    "    try:\n",
    "        df.at[i, 'Объём топливного бака'] = int(df.iloc[i]['Объём топливного бака'].split()[0])\n",
    "    except ValueError:\n",
    "        pass\n",
    "    \n",
    "    try:\n",
    "        df.at[i, 'Масса автомобиля'] = int(df.iloc[i]['Масса автомобиля'].split()[0])\n",
    "    except ValueError:\n",
    "        pass"
   ]
  },
  {
   "cell_type": "code",
   "execution_count": 130,
   "id": "fa20ebc6-b7d1-4081-977f-d13d9bfd47fd",
   "metadata": {},
   "outputs": [],
   "source": [
    "#преобразование переменных\n",
    "\n",
    "lenght = []\n",
    "width = []\n",
    "height = []\n",
    "\n",
    "\n",
    "engine_type = []\n",
    "engine_volume = []\n",
    "\n",
    "transmission_type = []\n",
    "transmission_speed_num = []\n",
    "\n",
    "for i in range(0 , len(df)):\n",
    "    \n",
    "    #Габариты\n",
    "    dim = df.at[i,'Габариты (длина × ширина × высота)'].split(' × ')\n",
    "    lenght.append(dim[0])\n",
    "    width.append(dim[1])\n",
    "    height.append(dim[2])\n",
    "    \n",
    "    #Расход топлива\n",
    "    df.at[i, 'Расход топлива (л/100 км)\\nгород / трасса / смешанный'] = \\\n",
    "    float(df.iloc[i]['Расход топлива (л/100 км)\\nгород / трасса / смешанный'].split(' / ')[2])\n",
    "    \n",
    "    #Двигатель\n",
    "    engine_type.append(df['Двигатель'][i].split()[0])\n",
    "    engine_volume.append(int(df['Двигатель'][i].split()[1][1:]))\n",
    "    \n",
    "    #Трансмиссия\n",
    "    transmission_type.append(df['Коробка передач'][i].split()[0])\n",
    "    transmission_speed_num.append(int(df['Коробка передач'][i].split()[1][1:]))\n",
    "\n",
    "    \n",
    "    \n",
    "df['transmission_type'] = transmission_type\n",
    "df['transmission_speed_num'] = transmission_speed_num\n",
    "df = df.drop(columns = ['Коробка передач'])\n",
    "    \n",
    "    \n",
    "\n",
    "df['engine_type'] = engine_type\n",
    "df['engine_volume'] = engine_volume\n",
    "df = df.drop(columns = ['Двигатель'])\n",
    "    \n",
    "    \n",
    "\n",
    "df['Длина'] = lenght\n",
    "df['Ширина'] = width\n",
    "df['Высота'] = height\n",
    "\n",
    "df = df.drop(columns=['Габариты (длина × ширина × высота)'])"
   ]
  },
  {
   "cell_type": "code",
   "execution_count": 131,
   "id": "09c2f5b9-ea3f-4f9c-89f4-1f688f60aa95",
   "metadata": {},
   "outputs": [],
   "source": [
    "#приведение категориальных типов данных к числовому\n",
    "from sklearn import preprocessing\n",
    "le = preprocessing.LabelEncoder()\n",
    "le.fit(df['Привод'])\n",
    "df['drive unit'] = le.transform(df['Привод'])\n",
    "\n",
    "le.fit(df['engine_type'])\n",
    "df['engine_type_num'] = le.transform(df['engine_type'])\n",
    "\n",
    "le.fit(df['transmission_type'])\n",
    "df['transmission_type_num'] = le.transform(df['transmission_type'])\n"
   ]
  },
  {
   "cell_type": "code",
   "execution_count": 132,
   "id": "7818c967-2aac-45e4-a189-3827dca637f4",
   "metadata": {},
   "outputs": [
    {
     "data": {
      "image/png": "[encoded data removed]",
      "text/plain": [
       "<Figure size 432x288 with 1 Axes>"
      ]
     },
     "metadata": {
      "needs_background": "light"
     },
     "output_type": "display_data"
    }
   ],
   "source": [
    "#построение гистограммы распределения типов кузова машин\n",
    "from sklearn import preprocessing\n",
    "le = preprocessing.LabelEncoder()\n",
    "le.fit(df['type_car'])\n",
    "df['numeric_type_car'] = le.transform(df['type_car'])\n",
    "\n",
    "ax = df['numeric_type_car'].plot.hist(bins=4, alpha=1)"
   ]
  },
  {
   "cell_type": "code",
   "execution_count": 133,
   "id": "966617e0-cc8f-4daa-90d4-9d523241da29",
   "metadata": {},
   "outputs": [],
   "source": [
    "#приведение типов данных\n",
    "\n",
    "df.loc[df['Разгон до сотни']=='нет данных','Разгон до сотни'] = np.nan\n",
    "\n",
    "df = df.astype({'Мощность': 'int32',\n",
    "          'Крутящий момент двигателя': 'int32',\n",
    "           'Разгон до сотни': 'float',\n",
    "           'Максимальная скорость': 'int32',\n",
    "           'Расход топлива (л/100 км)\\nгород / трасса / смешанный': 'float',\n",
    "           'Дорожный просвет': 'int32',\n",
    "           'Колёсная база': 'int32',\n",
    "           'Объём багажника': 'int32',\n",
    "           'Объём багажника максимальный': 'int32',\n",
    "           'Объём топливного бака': 'int32',\n",
    "           'Масса автомобиля': 'int32',\n",
    "           'Длина': 'int32',\n",
    "           'Ширина': 'int32',\n",
    "           'Высота': 'int32',\n",
    "           'engine_volume': 'int32',\n",
    "           'transmission_speed_num': 'int32',\n",
    "           'engine_type_num': 'int32',\n",
    "           'transmission_type_num': 'int32'})\n",
    "\n"
   ]
  },
  {
   "cell_type": "code",
   "execution_count": 134,
   "id": "e064386e-f067-4e0e-9161-3474274161db",
   "metadata": {},
   "outputs": [],
   "source": [
    "# в исходном наборе данных имеются пропущенные значения \n",
    "# есть 2 выхода - убрать данные экзмепляры из набора или заполнить их\n",
    "# один из вариантов заполнения - заполнить пропуски средним значением по столбцу\n",
    "\n",
    "#замена нулевых значений на среднее для столбца 'Разгон до сотни'\n",
    "means = np.nanmean(df['Разгон до сотни'], axis=0)\n",
    "df['Разгон до сотни'] = df['Разгон до сотни'].fillna(np.round(means, 2))\n",
    "\n",
    "#замена нулевых значений на среднее для столбца 'Расход топлива (л/100 км)\\nгород / трасса / смешанный'\n",
    "df.loc[df['Расход топлива (л/100 км)\\nгород / трасса / смешанный']==0,\n",
    "       'Расход топлива (л/100 км)\\nгород / трасса / смешанный'] = np.nan\n",
    "means1 = np.nanmean(df['Расход топлива (л/100 км)\\nгород / трасса / смешанный'], axis=0)\n",
    "\n",
    "df['Расход топлива (л/100 км)\\nгород / трасса / смешанный'] = \\\n",
    "df['Расход топлива (л/100 км)\\nгород / трасса / смешанный'].fillna(np.round(means1, 2))\n",
    "\n",
    "#замена нулевых значений на среднее для столбца 'Дорожный просвет'\n",
    "df.loc[df['Дорожный просвет']==0,'Дорожный просвет'] = np.nan\n",
    "means2 = np.nanmean(df['Дорожный просвет'], axis=0)\n",
    "df['Дорожный просвет'] = df['Дорожный просвет'].fillna(int(np.round(means2, 0)))"
   ]
  },
  {
   "cell_type": "code",
   "execution_count": 135,
   "id": "620a657c-1829-4eb2-854e-88dc7b625fff",
   "metadata": {},
   "outputs": [
    {
     "data": {
      "text/plain": [
       "array([ True,  True, False,  True,  True,  True, False,  True, False,\n",
       "        True,  True,  True, False,  True,  True,  True, False,  True,\n",
       "        True, False,  True])"
      ]
     },
     "execution_count": 135,
     "metadata": {},
     "output_type": "execute_result"
    }
   ],
   "source": [
    "#отбор фич\n",
    "# рассмторим 2 метода - \n",
    "# Метод 1 - RFE Recursive feature elimination\n",
    "# Цель рекурсивного исключения признаков (RFE) состоит в том, \n",
    "# чтобы выбрать признаки путем рекурсивного рассмотрения все меньших и меньших наборов признаков.\n",
    "# Затем наименее важные фичи удаляются из текущего набора признаков. \n",
    "# Эта процедура рекурсивно повторяется для сокращенного набора,\n",
    "# пока не будет достигнуто желаемое количество признаков.\n",
    "\n",
    "from sklearn.feature_selection import RFE\n",
    "from sklearn.svm import SVC\n",
    "from sklearn.svm import LinearSVC\n",
    "from sklearn.preprocessing import StandardScaler\n",
    "\n",
    "scaler = StandardScaler()\n",
    "scaler.fit(X)\n",
    "lsvc = LinearSVC(C=0.01, penalty=\"l1\", dual=False)\n",
    "rfe = RFE(estimator=lsvc, n_features_to_select=15, step=1)\n",
    "rfe.fit(scaler.transform(X), y)\n",
    "ranking = rfe.ranking_\n",
    "ranking\n",
    "rfe.support_\n"
   ]
  },
  {
   "cell_type": "code",
   "execution_count": 136,
   "id": "047cc178-0451-4785-972a-c701e0fdf99f",
   "metadata": {},
   "outputs": [
    {
     "data": {
      "text/plain": [
       "array([ True,  True, False,  True,  True, False, False,  True, False,\n",
       "        True,  True,  True, False,  True,  True,  True, False,  True,\n",
       "        True, False,  True])"
      ]
     },
     "execution_count": 136,
     "metadata": {},
     "output_type": "execute_result"
    }
   ],
   "source": [
    "#model 2 - L1-based feature selection\n",
    "# Линейные модели с использованием L1 регуляризации имеют некоторые оценочные кф. равные 0.\n",
    "# Поэтому для уменьшения количества признаков данный метод можно использовать \n",
    "# вместе с SelectFromModel для выбора ненулевых коэффициентов.\n",
    "from sklearn.svm import LinearSVC\n",
    "from sklearn.feature_selection import SelectFromModel\n",
    "from sklearn.preprocessing import StandardScaler\n",
    "scaler = StandardScaler()\n",
    "scaler.fit(X)\n",
    "lsvc = LinearSVC(C=0.01, penalty=\"l1\", dual=False).fit(scaler.transform(X), y)\n",
    "model = SelectFromModel(lsvc, prefit=True)\n",
    "model.get_support()"
   ]
  },
  {
   "cell_type": "code",
   "execution_count": 137,
   "id": "ed435a01-72ca-49b2-a2b4-e003b45e1325",
   "metadata": {},
   "outputs": [],
   "source": [
    "#на основании работы методов и знаний в предметной области выберет следующие признаки для обучения\n",
    "\n",
    "X_new = df[['seats','doors', 'Крутящий момент двигателя', \n",
    "       'Максимальная скорость', 'Разгон до сотни',\n",
    "       'Дорожный просвет', 'Объём багажника',\n",
    "       'Объём багажника максимальный', 'Объём топливного бака',\n",
    "       'Длина', 'Ширина', 'Высота', 'transmission_speed_num',\n",
    "       'drive unit', 'transmission_type_num']]"
   ]
  },
  {
   "cell_type": "code",
   "execution_count": 138,
   "id": "83da4f52-f9e1-4965-825f-624f4bd19a3b",
   "metadata": {},
   "outputs": [
    {
     "name": "stdout",
     "output_type": "stream",
     "text": [
      "Точность модели  0.9887\n"
     ]
    }
   ],
   "source": [
    "# Обучение классификатора\n",
    "# Для обучения выбран метод опорных векторов - один из самых популярных алгоритмов для решения задачи классификации.\n",
    "# В качестве параметров модели выберем полиномиальное ядро с максимальным коэффициентом многочлена = 5.\n",
    "# Также воспользуемся методом библиотеки sklearn для разделения выборки на тренировочную и тестовую, \n",
    "# где доля тестовой составляет 30%\n",
    "\n",
    "from sklearn.pipeline import make_pipeline\n",
    "from sklearn.model_selection import train_test_split\n",
    "from sklearn.svm import SVC\n",
    "\n",
    "X_train, X_test, y_train, y_test = train_test_split(X_new, y, test_size=0.3, random_state=42)\n",
    "\n",
    "clf = make_pipeline(StandardScaler(), SVC(kernel='poly', coef0=5, gamma='auto'))\n",
    "clf.fit(X_train, y_train)\n",
    "\n",
    "predicted = clf.predict(X_test)\n",
    "print('Точность модели ', np.round(np.mean(predicted == y_test), 4))"
   ]
  },
  {
   "cell_type": "code",
   "execution_count": 139,
   "id": "e7bd2a69-c32f-44af-99e3-e03f2df0fd42",
   "metadata": {},
   "outputs": [
    {
     "name": "stdout",
     "output_type": "stream",
     "text": [
      "              precision    recall  f1-score   support\n",
      "\n",
      "           0       0.94      1.00      0.97        47\n",
      "           1       1.00      0.98      0.99       230\n",
      "           2       1.00      1.00      1.00       126\n",
      "           3       0.97      0.97      0.97        38\n",
      "\n",
      "    accuracy                           0.99       441\n",
      "   macro avg       0.98      0.99      0.98       441\n",
      "weighted avg       0.99      0.99      0.99       441\n",
      "\n"
     ]
    }
   ],
   "source": [
    "# оценка качества модели\n",
    "from sklearn import metrics\n",
    "report = metrics.classification_report(y_test, predicted, output_dict=True)\n",
    "\n",
    "print(metrics.classification_report(y_test, predicted))\n",
    "report_df = pd.DataFrame(report).transpose()"
   ]
  },
  {
   "cell_type": "code",
   "execution_count": null,
   "id": "76eb87e6-1c48-44e3-815c-15a82e994520",
   "metadata": {},
   "outputs": [],
   "source": []
  }
 ],
 "metadata": {
  "kernelspec": {
   "display_name": "Python 3",
   "language": "python",
   "name": "python3"
  },
  "language_info": {
   "codemirror_mode": {
    "name": "ipython",
    "version": 3
   },
   "file_extension": ".py",
   "mimetype": "text/x-python",
   "name": "python",
   "nbconvert_exporter": "python",
   "pygments_lexer": "ipython3",
   "version": "3.8.0"
  }
 },
 "nbformat": 4,
 "nbformat_minor": 5
}
